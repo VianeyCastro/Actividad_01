{
  "nbformat": 4,
  "nbformat_minor": 0,
  "metadata": {
    "colab": {
      "name": "Untitled0.ipynb",
      "provenance": [],
      "authorship_tag": "ABX9TyMjBk8KH4Hw989nMBQ8Fqj5",
      "include_colab_link": true
    },
    "kernelspec": {
      "name": "python3",
      "display_name": "Python 3"
    },
    "language_info": {
      "name": "python"
    }
  },
  "cells": [
    {
      "cell_type": "markdown",
      "metadata": {
        "id": "view-in-github",
        "colab_type": "text"
      },
      "source": [
        "<a href=\"https://colab.research.google.com/github/VianeyCastro/Actividad_01/blob/main/Untitled0.ipynb\" target=\"_parent\"><img src=\"https://colab.research.google.com/assets/colab-badge.svg\" alt=\"Open In Colab\"/></a>"
      ]
    },
    {
      "cell_type": "code",
      "execution_count": 18,
      "metadata": {
        "colab": {
          "base_uri": "https://localhost:8080/",
          "height": 74
        },
        "id": "QbIcp5lfZdlC",
        "outputId": "5a9a8e20-6602-4ea5-eb17-7b883b4e97b9"
      },
      "outputs": [
        {
          "output_type": "display_data",
          "data": {
            "text/plain": [
              "                         d              \n",
              "0.183553597650514⋅v(t) + ──(v(t)) = 9.81\n",
              "                         dt             "
            ],
            "image/png": "[encoded data removed]",
            "text/latex": "$\\displaystyle 0.183553597650514 v{\\left(t \\right)} + \\frac{d}{d t} v{\\left(t \\right)} = 9.81$"
          },
          "metadata": {}
        },
        {
          "output_type": "execute_result",
          "data": {
            "text/plain": [
              "           -0.183553597650514⋅t           \n",
              "v(t) = C₁⋅ℯ                     + 53.44488"
            ],
            "image/png": "[encoded data removed]",
            "text/latex": "$\\displaystyle v{\\left(t \\right)} = C_{1} e^{- 0.183553597650514 t} + 53.44488$"
          },
          "metadata": {},
          "execution_count": 18
        }
      ],
      "source": [
        "#resuelve ecuación diferencial, velocidad paracaidista\n",
        "from sympy. interactive import printing\n",
        "printing.init_printing(use_latex=True)\n",
        "from sympy import*\n",
        "import sympy as sp\n",
        "m=68.1\n",
        "c=12.5\n",
        "g=9.81\n",
        "t=sp.symbols('t')\n",
        "#t, m, c, g=sp.symbols('t, m, c, g')\n",
        "v=sp.Function('v')(t)\n",
        "diffeq=Eq(v.diff(t)+(c/m)*v,g)\n",
        "display(diffeq)\n",
        "dsolve(diffeq,v, hint='default', simplify=True)"
      ]
    },
    {
      "cell_type": "code",
      "source": [
        "#Grafica de la resolución de la ecuación diferncial\n",
        "import matplotlib.pyplot as plt\n",
        "import numpy as np\n",
        "t=np.linspace(0,100,100)\n",
        "m=68.1\n",
        "c=12.5\n",
        "g=9.81\n",
        "v1= (g*m)/(c)*(1-np.exp((-c/m)*t))\n",
        "#y2=(12-5*x)/2\n",
        "plt.plot(t, v1, '--c')\n",
        "plt.title('Grafica velocidad paracaidista')\n",
        "plt.xlabel('Tiempo')\n",
        "plt.ylabel('Velocida')\n",
        "plt.grid()"
      ],
      "metadata": {
        "colab": {
          "base_uri": "https://localhost:8080/",
          "height": 295
        },
        "id": "lHweLUZRcyeY",
        "outputId": "8a3e6d20-2de6-4a25-d7f7-91a5ba23ac31"
      },
      "execution_count": 19,
      "outputs": [
        {
          "output_type": "display_data",
          "data": {
            "text/plain": [
              "<Figure size 432x288 with 1 Axes>"
            ],
            "image/png": "[encoded data removed]"
          },
          "metadata": {
            "needs_background": "light"
          }
        }
      ]
    },
    {
      "cell_type": "code",
      "source": [
        "#Solución aproximada\n",
        "va=0;\n",
        "t1=0;\n",
        "x=0;\n",
        "#datos=[0,0,0,0,0,0]\n",
        "datos=np.zeros(50)\n",
        "t2=np.zeros(50)\n",
        "display(datos)\n",
        "#incremento de for con incrementos decimales (investigar) ********************\n",
        "\n",
        "for t in range (0,100,2):\n",
        "  vn=va+(9.81-(12.5/68.1)*va)*(t-t1);\n",
        "  datos[x-1]=vn;\n",
        "  t2[x-1]=t;\n",
        "  t1=t;\n",
        "  va=vn;\n",
        "  x=x+1;\n",
        "  display(datos)\n",
        "  #print(len(datos))\n",
        "  #t1=[0,2,4,6,8]\n",
        "  #t2=np.linspace(0,50,21)\n",
        "  #print(t2)\n",
        "  plt.plot(t2, datos, '-g')\n",
        "\n",
        "  #Solucion exacta para comparar las 2 lineas\n",
        "  t=np.linspace(0,100,100)\n",
        "m=68.1\n",
        "c=12.5\n",
        "g=9.81\n",
        "v1= (g*m)/(c)*(1-np.exp((-c/m)*t))\n",
        "#y2=(12-5*x)/2\n",
        "plt.plot(t, v1, '--k')\n",
        "plt.title('Grafica velocidad paracaidista')\n",
        "plt.xlabel('Tiempo')\n",
        "plt.ylabel('Velocida')\n",
        "plt.grid()\n",
        "\n"
      ],
      "metadata": {
        "colab": {
          "base_uri": "https://localhost:8080/",
          "height": 1000
        },
        "id": "73blOuO_fZe1",
        "outputId": "61d91b35-890b-4abc-9538-9c81608b3661"
      },
      "execution_count": 33,
      "outputs": [
        {
          "output_type": "display_data",
          "data": {
            "text/plain": [
              "array([0., 0., 0., 0., 0., 0., 0., 0., 0., 0., 0., 0., 0., 0., 0., 0., 0.,\n",
              "       0., 0., 0., 0., 0., 0., 0., 0., 0., 0., 0., 0., 0., 0., 0., 0., 0.,\n",
              "       0., 0., 0., 0., 0., 0., 0., 0., 0., 0., 0., 0., 0., 0., 0., 0.])"
            ]
          },
          "metadata": {}
        },
        {
          "output_type": "display_data",
          "data": {
            "text/plain": [
              "array([0., 0., 0., 0., 0., 0., 0., 0., 0., 0., 0., 0., 0., 0., 0., 0., 0.,\n",
              "       0., 0., 0., 0., 0., 0., 0., 0., 0., 0., 0., 0., 0., 0., 0., 0., 0.,\n",
              "       0., 0., 0., 0., 0., 0., 0., 0., 0., 0., 0., 0., 0., 0., 0., 0.])"
            ]
          },
          "metadata": {}
        },
        {
          "output_type": "display_data",
          "data": {
            "text/plain": [
              "array([19.62,  0.  ,  0.  ,  0.  ,  0.  ,  0.  ,  0.  ,  0.  ,  0.  ,\n",
              "        0.  ,  0.  ,  0.  ,  0.  ,  0.  ,  0.  ,  0.  ,  0.  ,  0.  ,\n",
              "        0.  ,  0.  ,  0.  ,  0.  ,  0.  ,  0.  ,  0.  ,  0.  ,  0.  ,\n",
              "        0.  ,  0.  ,  0.  ,  0.  ,  0.  ,  0.  ,  0.  ,  0.  ,  0.  ,\n",
              "        0.  ,  0.  ,  0.  ,  0.  ,  0.  ,  0.  ,  0.  ,  0.  ,  0.  ,\n",
              "        0.  ,  0.  ,  0.  ,  0.  ,  0.  ])"
            ]
          },
          "metadata": {}
        },
        {
          "output_type": "display_data",
          "data": {
            "text/plain": [
              "array([19.62      , 32.03735683,  0.        ,  0.        ,  0.        ,\n",
              "        0.        ,  0.        ,  0.        ,  0.        ,  0.        ,\n",
              "        0.        ,  0.        ,  0.        ,  0.        ,  0.        ,\n",
              "        0.        ,  0.        ,  0.        ,  0.        ,  0.        ,\n",
              "        0.        ,  0.        ,  0.        ,  0.        ,  0.        ,\n",
              "        0.        ,  0.        ,  0.        ,  0.        ,  0.        ,\n",
              "        0.        ,  0.        ,  0.        ,  0.        ,  0.        ,\n",
              "        0.        ,  0.        ,  0.        ,  0.        ,  0.        ,\n",
              "        0.        ,  0.        ,  0.        ,  0.        ,  0.        ,\n",
              "        0.        ,  0.        ,  0.        ,  0.        ,  0.        ])"
            ]
          },
          "metadata": {}
        },
        {
          "output_type": "display_data",
          "data": {
            "text/plain": [
              "array([19.62      , 32.03735683, 39.89621262,  0.        ,  0.        ,\n",
              "        0.        ,  0.        ,  0.        ,  0.        ,  0.        ,\n",
              "        0.        ,  0.        ,  0.        ,  0.        ,  0.        ,\n",
              "        0.        ,  0.        ,  0.        ,  0.        ,  0.        ,\n",
              "        0.        ,  0.        ,  0.        ,  0.        ,  0.        ,\n",
              "        0.        ,  0.        ,  0.        ,  0.        ,  0.        ,\n",
              "        0.        ,  0.        ,  0.        ,  0.        ,  0.        ,\n",
              "        0.        ,  0.        ,  0.        ,  0.        ,  0.        ,\n",
              "        0.        ,  0.        ,  0.        ,  0.        ,  0.        ,\n",
              "        0.        ,  0.        ,  0.        ,  0.        ,  0.        ])"
            ]
          },
          "metadata": {}
        },
        {
          "output_type": "display_data",
          "data": {
            "text/plain": [
              "array([19.62      , 32.03735683, 39.89621262, 44.8700259 ,  0.        ,\n",
              "        0.        ,  0.        ,  0.        ,  0.        ,  0.        ,\n",
              "        0.        ,  0.        ,  0.        ,  0.        ,  0.        ,\n",
              "        0.        ,  0.        ,  0.        ,  0.        ,  0.        ,\n",
              "        0.        ,  0.        ,  0.        ,  0.        ,  0.        ,\n",
              "        0.        ,  0.        ,  0.        ,  0.        ,  0.        ,\n",
              "        0.        ,  0.        ,  0.        ,  0.        ,  0.        ,\n",
              "        0.        ,  0.        ,  0.        ,  0.        ,  0.        ,\n",
              "        0.        ,  0.        ,  0.        ,  0.        ,  0.        ,\n",
              "        0.        ,  0.        ,  0.        ,  0.        ,  0.        ])"
            ]
          },
          "metadata": {}
        },
        {
          "output_type": "display_data",
          "data": {
            "text/plain": [
              "array([19.62      , 32.03735683, 39.89621262, 44.8700259 , 48.01791654,\n",
              "        0.        ,  0.        ,  0.        ,  0.        ,  0.        ,\n",
              "        0.        ,  0.        ,  0.        ,  0.        ,  0.        ,\n",
              "        0.        ,  0.        ,  0.        ,  0.        ,  0.        ,\n",
              "        0.        ,  0.        ,  0.        ,  0.        ,  0.        ,\n",
              "        0.        ,  0.        ,  0.        ,  0.        ,  0.        ,\n",
              "        0.        ,  0.        ,  0.        ,  0.        ,  0.        ,\n",
              "        0.        ,  0.        ,  0.        ,  0.        ,  0.        ,\n",
              "        0.        ,  0.        ,  0.        ,  0.        ,  0.        ,\n",
              "        0.        ,  0.        ,  0.        ,  0.        ,  0.        ])"
            ]
          },
          "metadata": {}
        },
        {
          "output_type": "display_data",
          "data": {
            "text/plain": [
              "array([19.62      , 32.03735683, 39.89621262, 44.8700259 , 48.01791654,\n",
              "       50.01019387,  0.        ,  0.        ,  0.        ,  0.        ,\n",
              "        0.        ,  0.        ,  0.        ,  0.        ,  0.        ,\n",
              "        0.        ,  0.        ,  0.        ,  0.        ,  0.        ,\n",
              "        0.        ,  0.        ,  0.        ,  0.        ,  0.        ,\n",
              "        0.        ,  0.        ,  0.        ,  0.        ,  0.        ,\n",
              "        0.        ,  0.        ,  0.        ,  0.        ,  0.        ,\n",
              "        0.        ,  0.        ,  0.        ,  0.        ,  0.        ,\n",
              "        0.        ,  0.        ,  0.        ,  0.        ,  0.        ,\n",
              "        0.        ,  0.        ,  0.        ,  0.        ,  0.        ])"
            ]
          },
          "metadata": {}
        },
        {
          "output_type": "display_data",
          "data": {
            "text/plain": [
              "array([19.62      , 32.03735683, 39.89621262, 44.8700259 , 48.01791654,\n",
              "       50.01019387, 51.27109186,  0.        ,  0.        ,  0.        ,\n",
              "        0.        ,  0.        ,  0.        ,  0.        ,  0.        ,\n",
              "        0.        ,  0.        ,  0.        ,  0.        ,  0.        ,\n",
              "        0.        ,  0.        ,  0.        ,  0.        ,  0.        ,\n",
              "        0.        ,  0.        ,  0.        ,  0.        ,  0.        ,\n",
              "        0.        ,  0.        ,  0.        ,  0.        ,  0.        ,\n",
              "        0.        ,  0.        ,  0.        ,  0.        ,  0.        ,\n",
              "        0.        ,  0.        ,  0.        ,  0.        ,  0.        ,\n",
              "        0.        ,  0.        ,  0.        ,  0.        ,  0.        ])"
            ]
          },
          "metadata": {}
        },
        {
          "output_type": "display_data",
          "data": {
            "text/plain": [
              "array([19.62      , 32.03735683, 39.89621262, 44.8700259 , 48.01791654,\n",
              "       50.01019387, 51.27109186, 52.06910513,  0.        ,  0.        ,\n",
              "        0.        ,  0.        ,  0.        ,  0.        ,  0.        ,\n",
              "        0.        ,  0.        ,  0.        ,  0.        ,  0.        ,\n",
              "        0.        ,  0.        ,  0.        ,  0.        ,  0.        ,\n",
              "        0.        ,  0.        ,  0.        ,  0.        ,  0.        ,\n",
              "        0.        ,  0.        ,  0.        ,  0.        ,  0.        ,\n",
              "        0.        ,  0.        ,  0.        ,  0.        ,  0.        ,\n",
              "        0.        ,  0.        ,  0.        ,  0.        ,  0.        ,\n",
              "        0.        ,  0.        ,  0.        ,  0.        ,  0.        ])"
            ]
          },
          "metadata": {}
        },
        {
          "output_type": "display_data",
          "data": {
            "text/plain": [
              "array([19.62      , 32.03735683, 39.89621262, 44.8700259 , 48.01791654,\n",
              "       50.01019387, 51.27109186, 52.06910513, 52.57416198,  0.        ,\n",
              "        0.        ,  0.        ,  0.        ,  0.        ,  0.        ,\n",
              "        0.        ,  0.        ,  0.        ,  0.        ,  0.        ,\n",
              "        0.        ,  0.        ,  0.        ,  0.        ,  0.        ,\n",
              "        0.        ,  0.        ,  0.        ,  0.        ,  0.        ,\n",
              "        0.        ,  0.        ,  0.        ,  0.        ,  0.        ,\n",
              "        0.        ,  0.        ,  0.        ,  0.        ,  0.        ,\n",
              "        0.        ,  0.        ,  0.        ,  0.        ,  0.        ,\n",
              "        0.        ,  0.        ,  0.        ,  0.        ,  0.        ])"
            ]
          },
          "metadata": {}
        },
        {
          "output_type": "display_data",
          "data": {
            "text/plain": [
              "array([19.62      , 32.03735683, 39.89621262, 44.8700259 , 48.01791654,\n",
              "       50.01019387, 51.27109186, 52.06910513, 52.57416198, 52.89380883,\n",
              "        0.        ,  0.        ,  0.        ,  0.        ,  0.        ,\n",
              "        0.        ,  0.        ,  0.        ,  0.        ,  0.        ,\n",
              "        0.        ,  0.        ,  0.        ,  0.        ,  0.        ,\n",
              "        0.        ,  0.        ,  0.        ,  0.        ,  0.        ,\n",
              "        0.        ,  0.        ,  0.        ,  0.        ,  0.        ,\n",
              "        0.        ,  0.        ,  0.        ,  0.        ,  0.        ,\n",
              "        0.        ,  0.        ,  0.        ,  0.        ,  0.        ,\n",
              "        0.        ,  0.        ,  0.        ,  0.        ,  0.        ])"
            ]
          },
          "metadata": {}
        },
        {
          "output_type": "display_data",
          "data": {
            "text/plain": [
              "array([19.62      , 32.03735683, 39.89621262, 44.8700259 , 48.01791654,\n",
              "       50.01019387, 51.27109186, 52.06910513, 52.57416198, 52.89380883,\n",
              "       53.09611102,  0.        ,  0.        ,  0.        ,  0.        ,\n",
              "        0.        ,  0.        ,  0.        ,  0.        ,  0.        ,\n",
              "        0.        ,  0.        ,  0.        ,  0.        ,  0.        ,\n",
              "        0.        ,  0.        ,  0.        ,  0.        ,  0.        ,\n",
              "        0.        ,  0.        ,  0.        ,  0.        ,  0.        ,\n",
              "        0.        ,  0.        ,  0.        ,  0.        ,  0.        ,\n",
              "        0.        ,  0.        ,  0.        ,  0.        ,  0.        ,\n",
              "        0.        ,  0.        ,  0.        ,  0.        ,  0.        ])"
            ]
          },
          "metadata": {}
        },
        {
          "output_type": "display_data",
          "data": {
            "text/plain": [
              "array([19.62      , 32.03735683, 39.89621262, 44.8700259 , 48.01791654,\n",
              "       50.01019387, 51.27109186, 52.06910513, 52.57416198, 52.89380883,\n",
              "       53.09611102, 53.22414662,  0.        ,  0.        ,  0.        ,\n",
              "        0.        ,  0.        ,  0.        ,  0.        ,  0.        ,\n",
              "        0.        ,  0.        ,  0.        ,  0.        ,  0.        ,\n",
              "        0.        ,  0.        ,  0.        ,  0.        ,  0.        ,\n",
              "        0.        ,  0.        ,  0.        ,  0.        ,  0.        ,\n",
              "        0.        ,  0.        ,  0.        ,  0.        ,  0.        ,\n",
              "        0.        ,  0.        ,  0.        ,  0.        ,  0.        ,\n",
              "        0.        ,  0.        ,  0.        ,  0.        ,  0.        ])"
            ]
          },
          "metadata": {}
        },
        {
          "output_type": "display_data",
          "data": {
            "text/plain": [
              "array([19.62      , 32.03735683, 39.89621262, 44.8700259 , 48.01791654,\n",
              "       50.01019387, 51.27109186, 52.06910513, 52.57416198, 52.89380883,\n",
              "       53.09611102, 53.22414662, 53.30517943,  0.        ,  0.        ,\n",
              "        0.        ,  0.        ,  0.        ,  0.        ,  0.        ,\n",
              "        0.        ,  0.        ,  0.        ,  0.        ,  0.        ,\n",
              "        0.        ,  0.        ,  0.        ,  0.        ,  0.        ,\n",
              "        0.        ,  0.        ,  0.        ,  0.        ,  0.        ,\n",
              "        0.        ,  0.        ,  0.        ,  0.        ,  0.        ,\n",
              "        0.        ,  0.        ,  0.        ,  0.        ,  0.        ,\n",
              "        0.        ,  0.        ,  0.        ,  0.        ,  0.        ])"
            ]
          },
          "metadata": {}
        },
        {
          "output_type": "display_data",
          "data": {
            "text/plain": [
              "array([19.62      , 32.03735683, 39.89621262, 44.8700259 , 48.01791654,\n",
              "       50.01019387, 51.27109186, 52.06910513, 52.57416198, 52.89380883,\n",
              "       53.09611102, 53.22414662, 53.30517943, 53.35646452,  0.        ,\n",
              "        0.        ,  0.        ,  0.        ,  0.        ,  0.        ,\n",
              "        0.        ,  0.        ,  0.        ,  0.        ,  0.        ,\n",
              "        0.        ,  0.        ,  0.        ,  0.        ,  0.        ,\n",
              "        0.        ,  0.        ,  0.        ,  0.        ,  0.        ,\n",
              "        0.        ,  0.        ,  0.        ,  0.        ,  0.        ,\n",
              "        0.        ,  0.        ,  0.        ,  0.        ,  0.        ,\n",
              "        0.        ,  0.        ,  0.        ,  0.        ,  0.        ])"
            ]
          },
          "metadata": {}
        },
        {
          "output_type": "display_data",
          "data": {
            "text/plain": [
              "array([19.62      , 32.03735683, 39.89621262, 44.8700259 , 48.01791654,\n",
              "       50.01019387, 51.27109186, 52.06910513, 52.57416198, 52.89380883,\n",
              "       53.09611102, 53.22414662, 53.30517943, 53.35646452, 53.38892248,\n",
              "        0.        ,  0.        ,  0.        ,  0.        ,  0.        ,\n",
              "        0.        ,  0.        ,  0.        ,  0.        ,  0.        ,\n",
              "        0.        ,  0.        ,  0.        ,  0.        ,  0.        ,\n",
              "        0.        ,  0.        ,  0.        ,  0.        ,  0.        ,\n",
              "        0.        ,  0.        ,  0.        ,  0.        ,  0.        ,\n",
              "        0.        ,  0.        ,  0.        ,  0.        ,  0.        ,\n",
              "        0.        ,  0.        ,  0.        ,  0.        ,  0.        ])"
            ]
          },
          "metadata": {}
        },
        {
          "output_type": "display_data",
          "data": {
            "text/plain": [
              "array([19.62      , 32.03735683, 39.89621262, 44.8700259 , 48.01791654,\n",
              "       50.01019387, 51.27109186, 52.06910513, 52.57416198, 52.89380883,\n",
              "       53.09611102, 53.22414662, 53.30517943, 53.35646452, 53.38892248,\n",
              "       53.40946489,  0.        ,  0.        ,  0.        ,  0.        ,\n",
              "        0.        ,  0.        ,  0.        ,  0.        ,  0.        ,\n",
              "        0.        ,  0.        ,  0.        ,  0.        ,  0.        ,\n",
              "        0.        ,  0.        ,  0.        ,  0.        ,  0.        ,\n",
              "        0.        ,  0.        ,  0.        ,  0.        ,  0.        ,\n",
              "        0.        ,  0.        ,  0.        ,  0.        ,  0.        ,\n",
              "        0.        ,  0.        ,  0.        ,  0.        ,  0.        ])"
            ]
          },
          "metadata": {}
        },
        {
          "output_type": "display_data",
          "data": {
            "text/plain": [
              "array([19.62      , 32.03735683, 39.89621262, 44.8700259 , 48.01791654,\n",
              "       50.01019387, 51.27109186, 52.06910513, 52.57416198, 52.89380883,\n",
              "       53.09611102, 53.22414662, 53.30517943, 53.35646452, 53.38892248,\n",
              "       53.40946489, 53.42246603,  0.        ,  0.        ,  0.        ,\n",
              "        0.        ,  0.        ,  0.        ,  0.        ,  0.        ,\n",
              "        0.        ,  0.        ,  0.        ,  0.        ,  0.        ,\n",
              "        0.        ,  0.        ,  0.        ,  0.        ,  0.        ,\n",
              "        0.        ,  0.        ,  0.        ,  0.        ,  0.        ,\n",
              "        0.        ,  0.        ,  0.        ,  0.        ,  0.        ,\n",
              "        0.        ,  0.        ,  0.        ,  0.        ,  0.        ])"
            ]
          },
          "metadata": {}
        },
        {
          "output_type": "display_data",
          "data": {
            "text/plain": [
              "array([19.62      , 32.03735683, 39.89621262, 44.8700259 , 48.01791654,\n",
              "       50.01019387, 51.27109186, 52.06910513, 52.57416198, 52.89380883,\n",
              "       53.09611102, 53.22414662, 53.30517943, 53.35646452, 53.38892248,\n",
              "       53.40946489, 53.42246603, 53.43069436,  0.        ,  0.        ,\n",
              "        0.        ,  0.        ,  0.        ,  0.        ,  0.        ,\n",
              "        0.        ,  0.        ,  0.        ,  0.        ,  0.        ,\n",
              "        0.        ,  0.        ,  0.        ,  0.        ,  0.        ,\n",
              "        0.        ,  0.        ,  0.        ,  0.        ,  0.        ,\n",
              "        0.        ,  0.        ,  0.        ,  0.        ,  0.        ,\n",
              "        0.        ,  0.        ,  0.        ,  0.        ,  0.        ])"
            ]
          },
          "metadata": {}
        },
        {
          "output_type": "display_data",
          "data": {
            "text/plain": [
              "array([19.62      , 32.03735683, 39.89621262, 44.8700259 , 48.01791654,\n",
              "       50.01019387, 51.27109186, 52.06910513, 52.57416198, 52.89380883,\n",
              "       53.09611102, 53.22414662, 53.30517943, 53.35646452, 53.38892248,\n",
              "       53.40946489, 53.42246603, 53.43069436, 53.43590201,  0.        ,\n",
              "        0.        ,  0.        ,  0.        ,  0.        ,  0.        ,\n",
              "        0.        ,  0.        ,  0.        ,  0.        ,  0.        ,\n",
              "        0.        ,  0.        ,  0.        ,  0.        ,  0.        ,\n",
              "        0.        ,  0.        ,  0.        ,  0.        ,  0.        ,\n",
              "        0.        ,  0.        ,  0.        ,  0.        ,  0.        ,\n",
              "        0.        ,  0.        ,  0.        ,  0.        ,  0.        ])"
            ]
          },
          "metadata": {}
        },
        {
          "output_type": "display_data",
          "data": {
            "text/plain": [
              "array([19.62      , 32.03735683, 39.89621262, 44.8700259 , 48.01791654,\n",
              "       50.01019387, 51.27109186, 52.06910513, 52.57416198, 52.89380883,\n",
              "       53.09611102, 53.22414662, 53.30517943, 53.35646452, 53.38892248,\n",
              "       53.40946489, 53.42246603, 53.43069436, 53.43590201, 53.43919789,\n",
              "        0.        ,  0.        ,  0.        ,  0.        ,  0.        ,\n",
              "        0.        ,  0.        ,  0.        ,  0.        ,  0.        ,\n",
              "        0.        ,  0.        ,  0.        ,  0.        ,  0.        ,\n",
              "        0.        ,  0.        ,  0.        ,  0.        ,  0.        ,\n",
              "        0.        ,  0.        ,  0.        ,  0.        ,  0.        ,\n",
              "        0.        ,  0.        ,  0.        ,  0.        ,  0.        ])"
            ]
          },
          "metadata": {}
        },
        {
          "output_type": "display_data",
          "data": {
            "text/plain": [
              "array([19.62      , 32.03735683, 39.89621262, 44.8700259 , 48.01791654,\n",
              "       50.01019387, 51.27109186, 52.06910513, 52.57416198, 52.89380883,\n",
              "       53.09611102, 53.22414662, 53.30517943, 53.35646452, 53.38892248,\n",
              "       53.40946489, 53.42246603, 53.43069436, 53.43590201, 53.43919789,\n",
              "       53.44128384,  0.        ,  0.        ,  0.        ,  0.        ,\n",
              "        0.        ,  0.        ,  0.        ,  0.        ,  0.        ,\n",
              "        0.        ,  0.        ,  0.        ,  0.        ,  0.        ,\n",
              "        0.        ,  0.        ,  0.        ,  0.        ,  0.        ,\n",
              "        0.        ,  0.        ,  0.        ,  0.        ,  0.        ,\n",
              "        0.        ,  0.        ,  0.        ,  0.        ,  0.        ])"
            ]
          },
          "metadata": {}
        },
        {
          "output_type": "display_data",
          "data": {
            "text/plain": [
              "array([19.62      , 32.03735683, 39.89621262, 44.8700259 , 48.01791654,\n",
              "       50.01019387, 51.27109186, 52.06910513, 52.57416198, 52.89380883,\n",
              "       53.09611102, 53.22414662, 53.30517943, 53.35646452, 53.38892248,\n",
              "       53.40946489, 53.42246603, 53.43069436, 53.43590201, 53.43919789,\n",
              "       53.44128384, 53.44260401,  0.        ,  0.        ,  0.        ,\n",
              "        0.        ,  0.        ,  0.        ,  0.        ,  0.        ,\n",
              "        0.        ,  0.        ,  0.        ,  0.        ,  0.        ,\n",
              "        0.        ,  0.        ,  0.        ,  0.        ,  0.        ,\n",
              "        0.        ,  0.        ,  0.        ,  0.        ,  0.        ,\n",
              "        0.        ,  0.        ,  0.        ,  0.        ,  0.        ])"
            ]
          },
          "metadata": {}
        },
        {
          "output_type": "display_data",
          "data": {
            "text/plain": [
              "array([19.62      , 32.03735683, 39.89621262, 44.8700259 , 48.01791654,\n",
              "       50.01019387, 51.27109186, 52.06910513, 52.57416198, 52.89380883,\n",
              "       53.09611102, 53.22414662, 53.30517943, 53.35646452, 53.38892248,\n",
              "       53.40946489, 53.42246603, 53.43069436, 53.43590201, 53.43919789,\n",
              "       53.44128384, 53.44260401, 53.44343954,  0.        ,  0.        ,\n",
              "        0.        ,  0.        ,  0.        ,  0.        ,  0.        ,\n",
              "        0.        ,  0.        ,  0.        ,  0.        ,  0.        ,\n",
              "        0.        ,  0.        ,  0.        ,  0.        ,  0.        ,\n",
              "        0.        ,  0.        ,  0.        ,  0.        ,  0.        ,\n",
              "        0.        ,  0.        ,  0.        ,  0.        ,  0.        ])"
            ]
          },
          "metadata": {}
        },
        {
          "output_type": "display_data",
          "data": {
            "text/plain": [
              "array([19.62      , 32.03735683, 39.89621262, 44.8700259 , 48.01791654,\n",
              "       50.01019387, 51.27109186, 52.06910513, 52.57416198, 52.89380883,\n",
              "       53.09611102, 53.22414662, 53.30517943, 53.35646452, 53.38892248,\n",
              "       53.40946489, 53.42246603, 53.43069436, 53.43590201, 53.43919789,\n",
              "       53.44128384, 53.44260401, 53.44343954, 53.44396835,  0.        ,\n",
              "        0.        ,  0.        ,  0.        ,  0.        ,  0.        ,\n",
              "        0.        ,  0.        ,  0.        ,  0.        ,  0.        ,\n",
              "        0.        ,  0.        ,  0.        ,  0.        ,  0.        ,\n",
              "        0.        ,  0.        ,  0.        ,  0.        ,  0.        ,\n",
              "        0.        ,  0.        ,  0.        ,  0.        ,  0.        ])"
            ]
          },
          "metadata": {}
        },
        {
          "output_type": "display_data",
          "data": {
            "text/plain": [
              "array([19.62      , 32.03735683, 39.89621262, 44.8700259 , 48.01791654,\n",
              "       50.01019387, 51.27109186, 52.06910513, 52.57416198, 52.89380883,\n",
              "       53.09611102, 53.22414662, 53.30517943, 53.35646452, 53.38892248,\n",
              "       53.40946489, 53.42246603, 53.43069436, 53.43590201, 53.43919789,\n",
              "       53.44128384, 53.44260401, 53.44343954, 53.44396835, 53.44430302,\n",
              "        0.        ,  0.        ,  0.        ,  0.        ,  0.        ,\n",
              "        0.        ,  0.        ,  0.        ,  0.        ,  0.        ,\n",
              "        0.        ,  0.        ,  0.        ,  0.        ,  0.        ,\n",
              "        0.        ,  0.        ,  0.        ,  0.        ,  0.        ,\n",
              "        0.        ,  0.        ,  0.        ,  0.        ,  0.        ])"
            ]
          },
          "metadata": {}
        },
        {
          "output_type": "display_data",
          "data": {
            "text/plain": [
              "array([19.62      , 32.03735683, 39.89621262, 44.8700259 , 48.01791654,\n",
              "       50.01019387, 51.27109186, 52.06910513, 52.57416198, 52.89380883,\n",
              "       53.09611102, 53.22414662, 53.30517943, 53.35646452, 53.38892248,\n",
              "       53.40946489, 53.42246603, 53.43069436, 53.43590201, 53.43919789,\n",
              "       53.44128384, 53.44260401, 53.44343954, 53.44396835, 53.44430302,\n",
              "       53.44451483,  0.        ,  0.        ,  0.        ,  0.        ,\n",
              "        0.        ,  0.        ,  0.        ,  0.        ,  0.        ,\n",
              "        0.        ,  0.        ,  0.        ,  0.        ,  0.        ,\n",
              "        0.        ,  0.        ,  0.        ,  0.        ,  0.        ,\n",
              "        0.        ,  0.        ,  0.        ,  0.        ,  0.        ])"
            ]
          },
          "metadata": {}
        },
        {
          "output_type": "display_data",
          "data": {
            "text/plain": [
              "array([19.62      , 32.03735683, 39.89621262, 44.8700259 , 48.01791654,\n",
              "       50.01019387, 51.27109186, 52.06910513, 52.57416198, 52.89380883,\n",
              "       53.09611102, 53.22414662, 53.30517943, 53.35646452, 53.38892248,\n",
              "       53.40946489, 53.42246603, 53.43069436, 53.43590201, 53.43919789,\n",
              "       53.44128384, 53.44260401, 53.44343954, 53.44396835, 53.44430302,\n",
              "       53.44451483, 53.44464889,  0.        ,  0.        ,  0.        ,\n",
              "        0.        ,  0.        ,  0.        ,  0.        ,  0.        ,\n",
              "        0.        ,  0.        ,  0.        ,  0.        ,  0.        ,\n",
              "        0.        ,  0.        ,  0.        ,  0.        ,  0.        ,\n",
              "        0.        ,  0.        ,  0.        ,  0.        ,  0.        ])"
            ]
          },
          "metadata": {}
        },
        {
          "output_type": "display_data",
          "data": {
            "text/plain": [
              "array([19.62      , 32.03735683, 39.89621262, 44.8700259 , 48.01791654,\n",
              "       50.01019387, 51.27109186, 52.06910513, 52.57416198, 52.89380883,\n",
              "       53.09611102, 53.22414662, 53.30517943, 53.35646452, 53.38892248,\n",
              "       53.40946489, 53.42246603, 53.43069436, 53.43590201, 53.43919789,\n",
              "       53.44128384, 53.44260401, 53.44343954, 53.44396835, 53.44430302,\n",
              "       53.44451483, 53.44464889, 53.44473373,  0.        ,  0.        ,\n",
              "        0.        ,  0.        ,  0.        ,  0.        ,  0.        ,\n",
              "        0.        ,  0.        ,  0.        ,  0.        ,  0.        ,\n",
              "        0.        ,  0.        ,  0.        ,  0.        ,  0.        ,\n",
              "        0.        ,  0.        ,  0.        ,  0.        ,  0.        ])"
            ]
          },
          "metadata": {}
        },
        {
          "output_type": "display_data",
          "data": {
            "text/plain": [
              "array([19.62      , 32.03735683, 39.89621262, 44.8700259 , 48.01791654,\n",
              "       50.01019387, 51.27109186, 52.06910513, 52.57416198, 52.89380883,\n",
              "       53.09611102, 53.22414662, 53.30517943, 53.35646452, 53.38892248,\n",
              "       53.40946489, 53.42246603, 53.43069436, 53.43590201, 53.43919789,\n",
              "       53.44128384, 53.44260401, 53.44343954, 53.44396835, 53.44430302,\n",
              "       53.44451483, 53.44464889, 53.44473373, 53.44478743,  0.        ,\n",
              "        0.        ,  0.        ,  0.        ,  0.        ,  0.        ,\n",
              "        0.        ,  0.        ,  0.        ,  0.        ,  0.        ,\n",
              "        0.        ,  0.        ,  0.        ,  0.        ,  0.        ,\n",
              "        0.        ,  0.        ,  0.        ,  0.        ,  0.        ])"
            ]
          },
          "metadata": {}
        },
        {
          "output_type": "display_data",
          "data": {
            "text/plain": [
              "array([19.62      , 32.03735683, 39.89621262, 44.8700259 , 48.01791654,\n",
              "       50.01019387, 51.27109186, 52.06910513, 52.57416198, 52.89380883,\n",
              "       53.09611102, 53.22414662, 53.30517943, 53.35646452, 53.38892248,\n",
              "       53.40946489, 53.42246603, 53.43069436, 53.43590201, 53.43919789,\n",
              "       53.44128384, 53.44260401, 53.44343954, 53.44396835, 53.44430302,\n",
              "       53.44451483, 53.44464889, 53.44473373, 53.44478743, 53.44482141,\n",
              "        0.        ,  0.        ,  0.        ,  0.        ,  0.        ,\n",
              "        0.        ,  0.        ,  0.        ,  0.        ,  0.        ,\n",
              "        0.        ,  0.        ,  0.        ,  0.        ,  0.        ,\n",
              "        0.        ,  0.        ,  0.        ,  0.        ,  0.        ])"
            ]
          },
          "metadata": {}
        },
        {
          "output_type": "display_data",
          "data": {
            "text/plain": [
              "array([19.62      , 32.03735683, 39.89621262, 44.8700259 , 48.01791654,\n",
              "       50.01019387, 51.27109186, 52.06910513, 52.57416198, 52.89380883,\n",
              "       53.09611102, 53.22414662, 53.30517943, 53.35646452, 53.38892248,\n",
              "       53.40946489, 53.42246603, 53.43069436, 53.43590201, 53.43919789,\n",
              "       53.44128384, 53.44260401, 53.44343954, 53.44396835, 53.44430302,\n",
              "       53.44451483, 53.44464889, 53.44473373, 53.44478743, 53.44482141,\n",
              "       53.44484292,  0.        ,  0.        ,  0.        ,  0.        ,\n",
              "        0.        ,  0.        ,  0.        ,  0.        ,  0.        ,\n",
              "        0.        ,  0.        ,  0.        ,  0.        ,  0.        ,\n",
              "        0.        ,  0.        ,  0.        ,  0.        ,  0.        ])"
            ]
          },
          "metadata": {}
        },
        {
          "output_type": "display_data",
          "data": {
            "text/plain": [
              "array([19.62      , 32.03735683, 39.89621262, 44.8700259 , 48.01791654,\n",
              "       50.01019387, 51.27109186, 52.06910513, 52.57416198, 52.89380883,\n",
              "       53.09611102, 53.22414662, 53.30517943, 53.35646452, 53.38892248,\n",
              "       53.40946489, 53.42246603, 53.43069436, 53.43590201, 53.43919789,\n",
              "       53.44128384, 53.44260401, 53.44343954, 53.44396835, 53.44430302,\n",
              "       53.44451483, 53.44464889, 53.44473373, 53.44478743, 53.44482141,\n",
              "       53.44484292, 53.44485653,  0.        ,  0.        ,  0.        ,\n",
              "        0.        ,  0.        ,  0.        ,  0.        ,  0.        ,\n",
              "        0.        ,  0.        ,  0.        ,  0.        ,  0.        ,\n",
              "        0.        ,  0.        ,  0.        ,  0.        ,  0.        ])"
            ]
          },
          "metadata": {}
        },
        {
          "output_type": "display_data",
          "data": {
            "text/plain": [
              "array([19.62      , 32.03735683, 39.89621262, 44.8700259 , 48.01791654,\n",
              "       50.01019387, 51.27109186, 52.06910513, 52.57416198, 52.89380883,\n",
              "       53.09611102, 53.22414662, 53.30517943, 53.35646452, 53.38892248,\n",
              "       53.40946489, 53.42246603, 53.43069436, 53.43590201, 53.43919789,\n",
              "       53.44128384, 53.44260401, 53.44343954, 53.44396835, 53.44430302,\n",
              "       53.44451483, 53.44464889, 53.44473373, 53.44478743, 53.44482141,\n",
              "       53.44484292, 53.44485653, 53.44486515,  0.        ,  0.        ,\n",
              "        0.        ,  0.        ,  0.        ,  0.        ,  0.        ,\n",
              "        0.        ,  0.        ,  0.        ,  0.        ,  0.        ,\n",
              "        0.        ,  0.        ,  0.        ,  0.        ,  0.        ])"
            ]
          },
          "metadata": {}
        },
        {
          "output_type": "display_data",
          "data": {
            "text/plain": [
              "array([19.62      , 32.03735683, 39.89621262, 44.8700259 , 48.01791654,\n",
              "       50.01019387, 51.27109186, 52.06910513, 52.57416198, 52.89380883,\n",
              "       53.09611102, 53.22414662, 53.30517943, 53.35646452, 53.38892248,\n",
              "       53.40946489, 53.42246603, 53.43069436, 53.43590201, 53.43919789,\n",
              "       53.44128384, 53.44260401, 53.44343954, 53.44396835, 53.44430302,\n",
              "       53.44451483, 53.44464889, 53.44473373, 53.44478743, 53.44482141,\n",
              "       53.44484292, 53.44485653, 53.44486515, 53.4448706 ,  0.        ,\n",
              "        0.        ,  0.        ,  0.        ,  0.        ,  0.        ,\n",
              "        0.        ,  0.        ,  0.        ,  0.        ,  0.        ,\n",
              "        0.        ,  0.        ,  0.        ,  0.        ,  0.        ])"
            ]
          },
          "metadata": {}
        },
        {
          "output_type": "display_data",
          "data": {
            "text/plain": [
              "array([19.62      , 32.03735683, 39.89621262, 44.8700259 , 48.01791654,\n",
              "       50.01019387, 51.27109186, 52.06910513, 52.57416198, 52.89380883,\n",
              "       53.09611102, 53.22414662, 53.30517943, 53.35646452, 53.38892248,\n",
              "       53.40946489, 53.42246603, 53.43069436, 53.43590201, 53.43919789,\n",
              "       53.44128384, 53.44260401, 53.44343954, 53.44396835, 53.44430302,\n",
              "       53.44451483, 53.44464889, 53.44473373, 53.44478743, 53.44482141,\n",
              "       53.44484292, 53.44485653, 53.44486515, 53.4448706 , 53.44487405,\n",
              "        0.        ,  0.        ,  0.        ,  0.        ,  0.        ,\n",
              "        0.        ,  0.        ,  0.        ,  0.        ,  0.        ,\n",
              "        0.        ,  0.        ,  0.        ,  0.        ,  0.        ])"
            ]
          },
          "metadata": {}
        },
        {
          "output_type": "display_data",
          "data": {
            "text/plain": [
              "array([19.62      , 32.03735683, 39.89621262, 44.8700259 , 48.01791654,\n",
              "       50.01019387, 51.27109186, 52.06910513, 52.57416198, 52.89380883,\n",
              "       53.09611102, 53.22414662, 53.30517943, 53.35646452, 53.38892248,\n",
              "       53.40946489, 53.42246603, 53.43069436, 53.43590201, 53.43919789,\n",
              "       53.44128384, 53.44260401, 53.44343954, 53.44396835, 53.44430302,\n",
              "       53.44451483, 53.44464889, 53.44473373, 53.44478743, 53.44482141,\n",
              "       53.44484292, 53.44485653, 53.44486515, 53.4448706 , 53.44487405,\n",
              "       53.44487623,  0.        ,  0.        ,  0.        ,  0.        ,\n",
              "        0.        ,  0.        ,  0.        ,  0.        ,  0.        ,\n",
              "        0.        ,  0.        ,  0.        ,  0.        ,  0.        ])"
            ]
          },
          "metadata": {}
        },
        {
          "output_type": "display_data",
          "data": {
            "text/plain": [
              "array([19.62      , 32.03735683, 39.89621262, 44.8700259 , 48.01791654,\n",
              "       50.01019387, 51.27109186, 52.06910513, 52.57416198, 52.89380883,\n",
              "       53.09611102, 53.22414662, 53.30517943, 53.35646452, 53.38892248,\n",
              "       53.40946489, 53.42246603, 53.43069436, 53.43590201, 53.43919789,\n",
              "       53.44128384, 53.44260401, 53.44343954, 53.44396835, 53.44430302,\n",
              "       53.44451483, 53.44464889, 53.44473373, 53.44478743, 53.44482141,\n",
              "       53.44484292, 53.44485653, 53.44486515, 53.4448706 , 53.44487405,\n",
              "       53.44487623, 53.44487762,  0.        ,  0.        ,  0.        ,\n",
              "        0.        ,  0.        ,  0.        ,  0.        ,  0.        ,\n",
              "        0.        ,  0.        ,  0.        ,  0.        ,  0.        ])"
            ]
          },
          "metadata": {}
        },
        {
          "output_type": "display_data",
          "data": {
            "text/plain": [
              "array([19.62      , 32.03735683, 39.89621262, 44.8700259 , 48.01791654,\n",
              "       50.01019387, 51.27109186, 52.06910513, 52.57416198, 52.89380883,\n",
              "       53.09611102, 53.22414662, 53.30517943, 53.35646452, 53.38892248,\n",
              "       53.40946489, 53.42246603, 53.43069436, 53.43590201, 53.43919789,\n",
              "       53.44128384, 53.44260401, 53.44343954, 53.44396835, 53.44430302,\n",
              "       53.44451483, 53.44464889, 53.44473373, 53.44478743, 53.44482141,\n",
              "       53.44484292, 53.44485653, 53.44486515, 53.4448706 , 53.44487405,\n",
              "       53.44487623, 53.44487762, 53.44487849,  0.        ,  0.        ,\n",
              "        0.        ,  0.        ,  0.        ,  0.        ,  0.        ,\n",
              "        0.        ,  0.        ,  0.        ,  0.        ,  0.        ])"
            ]
          },
          "metadata": {}
        },
        {
          "output_type": "display_data",
          "data": {
            "text/plain": [
              "array([19.62      , 32.03735683, 39.89621262, 44.8700259 , 48.01791654,\n",
              "       50.01019387, 51.27109186, 52.06910513, 52.57416198, 52.89380883,\n",
              "       53.09611102, 53.22414662, 53.30517943, 53.35646452, 53.38892248,\n",
              "       53.40946489, 53.42246603, 53.43069436, 53.43590201, 53.43919789,\n",
              "       53.44128384, 53.44260401, 53.44343954, 53.44396835, 53.44430302,\n",
              "       53.44451483, 53.44464889, 53.44473373, 53.44478743, 53.44482141,\n",
              "       53.44484292, 53.44485653, 53.44486515, 53.4448706 , 53.44487405,\n",
              "       53.44487623, 53.44487762, 53.44487849, 53.44487905,  0.        ,\n",
              "        0.        ,  0.        ,  0.        ,  0.        ,  0.        ,\n",
              "        0.        ,  0.        ,  0.        ,  0.        ,  0.        ])"
            ]
          },
          "metadata": {}
        },
        {
          "output_type": "display_data",
          "data": {
            "text/plain": [
              "array([19.62      , 32.03735683, 39.89621262, 44.8700259 , 48.01791654,\n",
              "       50.01019387, 51.27109186, 52.06910513, 52.57416198, 52.89380883,\n",
              "       53.09611102, 53.22414662, 53.30517943, 53.35646452, 53.38892248,\n",
              "       53.40946489, 53.42246603, 53.43069436, 53.43590201, 53.43919789,\n",
              "       53.44128384, 53.44260401, 53.44343954, 53.44396835, 53.44430302,\n",
              "       53.44451483, 53.44464889, 53.44473373, 53.44478743, 53.44482141,\n",
              "       53.44484292, 53.44485653, 53.44486515, 53.4448706 , 53.44487405,\n",
              "       53.44487623, 53.44487762, 53.44487849, 53.44487905, 53.4448794 ,\n",
              "        0.        ,  0.        ,  0.        ,  0.        ,  0.        ,\n",
              "        0.        ,  0.        ,  0.        ,  0.        ,  0.        ])"
            ]
          },
          "metadata": {}
        },
        {
          "output_type": "display_data",
          "data": {
            "text/plain": [
              "array([19.62      , 32.03735683, 39.89621262, 44.8700259 , 48.01791654,\n",
              "       50.01019387, 51.27109186, 52.06910513, 52.57416198, 52.89380883,\n",
              "       53.09611102, 53.22414662, 53.30517943, 53.35646452, 53.38892248,\n",
              "       53.40946489, 53.42246603, 53.43069436, 53.43590201, 53.43919789,\n",
              "       53.44128384, 53.44260401, 53.44343954, 53.44396835, 53.44430302,\n",
              "       53.44451483, 53.44464889, 53.44473373, 53.44478743, 53.44482141,\n",
              "       53.44484292, 53.44485653, 53.44486515, 53.4448706 , 53.44487405,\n",
              "       53.44487623, 53.44487762, 53.44487849, 53.44487905, 53.4448794 ,\n",
              "       53.44487962,  0.        ,  0.        ,  0.        ,  0.        ,\n",
              "        0.        ,  0.        ,  0.        ,  0.        ,  0.        ])"
            ]
          },
          "metadata": {}
        },
        {
          "output_type": "display_data",
          "data": {
            "text/plain": [
              "array([19.62      , 32.03735683, 39.89621262, 44.8700259 , 48.01791654,\n",
              "       50.01019387, 51.27109186, 52.06910513, 52.57416198, 52.89380883,\n",
              "       53.09611102, 53.22414662, 53.30517943, 53.35646452, 53.38892248,\n",
              "       53.40946489, 53.42246603, 53.43069436, 53.43590201, 53.43919789,\n",
              "       53.44128384, 53.44260401, 53.44343954, 53.44396835, 53.44430302,\n",
              "       53.44451483, 53.44464889, 53.44473373, 53.44478743, 53.44482141,\n",
              "       53.44484292, 53.44485653, 53.44486515, 53.4448706 , 53.44487405,\n",
              "       53.44487623, 53.44487762, 53.44487849, 53.44487905, 53.4448794 ,\n",
              "       53.44487962, 53.44487976,  0.        ,  0.        ,  0.        ,\n",
              "        0.        ,  0.        ,  0.        ,  0.        ,  0.        ])"
            ]
          },
          "metadata": {}
        },
        {
          "output_type": "display_data",
          "data": {
            "text/plain": [
              "array([19.62      , 32.03735683, 39.89621262, 44.8700259 , 48.01791654,\n",
              "       50.01019387, 51.27109186, 52.06910513, 52.57416198, 52.89380883,\n",
              "       53.09611102, 53.22414662, 53.30517943, 53.35646452, 53.38892248,\n",
              "       53.40946489, 53.42246603, 53.43069436, 53.43590201, 53.43919789,\n",
              "       53.44128384, 53.44260401, 53.44343954, 53.44396835, 53.44430302,\n",
              "       53.44451483, 53.44464889, 53.44473373, 53.44478743, 53.44482141,\n",
              "       53.44484292, 53.44485653, 53.44486515, 53.4448706 , 53.44487405,\n",
              "       53.44487623, 53.44487762, 53.44487849, 53.44487905, 53.4448794 ,\n",
              "       53.44487962, 53.44487976, 53.44487985,  0.        ,  0.        ,\n",
              "        0.        ,  0.        ,  0.        ,  0.        ,  0.        ])"
            ]
          },
          "metadata": {}
        },
        {
          "output_type": "display_data",
          "data": {
            "text/plain": [
              "array([19.62      , 32.03735683, 39.89621262, 44.8700259 , 48.01791654,\n",
              "       50.01019387, 51.27109186, 52.06910513, 52.57416198, 52.89380883,\n",
              "       53.09611102, 53.22414662, 53.30517943, 53.35646452, 53.38892248,\n",
              "       53.40946489, 53.42246603, 53.43069436, 53.43590201, 53.43919789,\n",
              "       53.44128384, 53.44260401, 53.44343954, 53.44396835, 53.44430302,\n",
              "       53.44451483, 53.44464889, 53.44473373, 53.44478743, 53.44482141,\n",
              "       53.44484292, 53.44485653, 53.44486515, 53.4448706 , 53.44487405,\n",
              "       53.44487623, 53.44487762, 53.44487849, 53.44487905, 53.4448794 ,\n",
              "       53.44487962, 53.44487976, 53.44487985, 53.4448799 ,  0.        ,\n",
              "        0.        ,  0.        ,  0.        ,  0.        ,  0.        ])"
            ]
          },
          "metadata": {}
        },
        {
          "output_type": "display_data",
          "data": {
            "text/plain": [
              "array([19.62      , 32.03735683, 39.89621262, 44.8700259 , 48.01791654,\n",
              "       50.01019387, 51.27109186, 52.06910513, 52.57416198, 52.89380883,\n",
              "       53.09611102, 53.22414662, 53.30517943, 53.35646452, 53.38892248,\n",
              "       53.40946489, 53.42246603, 53.43069436, 53.43590201, 53.43919789,\n",
              "       53.44128384, 53.44260401, 53.44343954, 53.44396835, 53.44430302,\n",
              "       53.44451483, 53.44464889, 53.44473373, 53.44478743, 53.44482141,\n",
              "       53.44484292, 53.44485653, 53.44486515, 53.4448706 , 53.44487405,\n",
              "       53.44487623, 53.44487762, 53.44487849, 53.44487905, 53.4448794 ,\n",
              "       53.44487962, 53.44487976, 53.44487985, 53.4448799 , 53.44487994,\n",
              "        0.        ,  0.        ,  0.        ,  0.        ,  0.        ])"
            ]
          },
          "metadata": {}
        },
        {
          "output_type": "display_data",
          "data": {
            "text/plain": [
              "array([19.62      , 32.03735683, 39.89621262, 44.8700259 , 48.01791654,\n",
              "       50.01019387, 51.27109186, 52.06910513, 52.57416198, 52.89380883,\n",
              "       53.09611102, 53.22414662, 53.30517943, 53.35646452, 53.38892248,\n",
              "       53.40946489, 53.42246603, 53.43069436, 53.43590201, 53.43919789,\n",
              "       53.44128384, 53.44260401, 53.44343954, 53.44396835, 53.44430302,\n",
              "       53.44451483, 53.44464889, 53.44473373, 53.44478743, 53.44482141,\n",
              "       53.44484292, 53.44485653, 53.44486515, 53.4448706 , 53.44487405,\n",
              "       53.44487623, 53.44487762, 53.44487849, 53.44487905, 53.4448794 ,\n",
              "       53.44487962, 53.44487976, 53.44487985, 53.4448799 , 53.44487994,\n",
              "       53.44487996,  0.        ,  0.        ,  0.        ,  0.        ])"
            ]
          },
          "metadata": {}
        },
        {
          "output_type": "display_data",
          "data": {
            "text/plain": [
              "array([19.62      , 32.03735683, 39.89621262, 44.8700259 , 48.01791654,\n",
              "       50.01019387, 51.27109186, 52.06910513, 52.57416198, 52.89380883,\n",
              "       53.09611102, 53.22414662, 53.30517943, 53.35646452, 53.38892248,\n",
              "       53.40946489, 53.42246603, 53.43069436, 53.43590201, 53.43919789,\n",
              "       53.44128384, 53.44260401, 53.44343954, 53.44396835, 53.44430302,\n",
              "       53.44451483, 53.44464889, 53.44473373, 53.44478743, 53.44482141,\n",
              "       53.44484292, 53.44485653, 53.44486515, 53.4448706 , 53.44487405,\n",
              "       53.44487623, 53.44487762, 53.44487849, 53.44487905, 53.4448794 ,\n",
              "       53.44487962, 53.44487976, 53.44487985, 53.4448799 , 53.44487994,\n",
              "       53.44487996, 53.44487998,  0.        ,  0.        ,  0.        ])"
            ]
          },
          "metadata": {}
        },
        {
          "output_type": "display_data",
          "data": {
            "text/plain": [
              "array([19.62      , 32.03735683, 39.89621262, 44.8700259 , 48.01791654,\n",
              "       50.01019387, 51.27109186, 52.06910513, 52.57416198, 52.89380883,\n",
              "       53.09611102, 53.22414662, 53.30517943, 53.35646452, 53.38892248,\n",
              "       53.40946489, 53.42246603, 53.43069436, 53.43590201, 53.43919789,\n",
              "       53.44128384, 53.44260401, 53.44343954, 53.44396835, 53.44430302,\n",
              "       53.44451483, 53.44464889, 53.44473373, 53.44478743, 53.44482141,\n",
              "       53.44484292, 53.44485653, 53.44486515, 53.4448706 , 53.44487405,\n",
              "       53.44487623, 53.44487762, 53.44487849, 53.44487905, 53.4448794 ,\n",
              "       53.44487962, 53.44487976, 53.44487985, 53.4448799 , 53.44487994,\n",
              "       53.44487996, 53.44487998, 53.44487998,  0.        ,  0.        ])"
            ]
          },
          "metadata": {}
        },
        {
          "output_type": "display_data",
          "data": {
            "text/plain": [
              "array([19.62      , 32.03735683, 39.89621262, 44.8700259 , 48.01791654,\n",
              "       50.01019387, 51.27109186, 52.06910513, 52.57416198, 52.89380883,\n",
              "       53.09611102, 53.22414662, 53.30517943, 53.35646452, 53.38892248,\n",
              "       53.40946489, 53.42246603, 53.43069436, 53.43590201, 53.43919789,\n",
              "       53.44128384, 53.44260401, 53.44343954, 53.44396835, 53.44430302,\n",
              "       53.44451483, 53.44464889, 53.44473373, 53.44478743, 53.44482141,\n",
              "       53.44484292, 53.44485653, 53.44486515, 53.4448706 , 53.44487405,\n",
              "       53.44487623, 53.44487762, 53.44487849, 53.44487905, 53.4448794 ,\n",
              "       53.44487962, 53.44487976, 53.44487985, 53.4448799 , 53.44487994,\n",
              "       53.44487996, 53.44487998, 53.44487998, 53.44487999,  0.        ])"
            ]
          },
          "metadata": {}
        },
        {
          "output_type": "display_data",
          "data": {
            "text/plain": [
              "<Figure size 432x288 with 1 Axes>"
            ],
            "image/png": "[encoded data removed]"
          },
          "metadata": {
            "needs_background": "light"
          }
        }
      ]
    },
    {
      "cell_type": "code",
      "source": [
        "#Solucion aproximada \n",
        "va=0;\n",
        "t1=0;\n",
        "x=1;\n",
        "#datos = [0,0,0,0,0,0]\n",
        "datos = np.zeros(50)\n",
        "t2 = np.zeros(50)\n",
        "display(datos)\n",
        "\n",
        "for t in range(0, 100, 2):\n",
        "  vn=va+(9.81-(12.5/68.1)*va)*(t-t1);\n",
        "  datos[x-1] = vn;\n",
        "  t2[x-1] = t;\n",
        "  t1=t;\n",
        "  va=vn;\n",
        "  x=x+1;\n",
        "display(datos)\n",
        "#print(len(datos))\n",
        "#t1 = [0,2,4,6,8]\n",
        "#t2 = np.linspace(0,50,21)\n",
        "#print(t2)\n",
        "plt.plot(t2, datos,'-g')\n",
        "#Solucion Exacta\n",
        "t3 = np.linspace(0,100,100)\n",
        "m=68.1\n",
        "c=12.5\n",
        "g=9.81\n",
        "v1 = (g*m)/(c)*(1-np.exp((-c/m)*t3))\n",
        "#y2= (12-5*x)/2\n",
        "plt.plot(t3, v1, '--r')\n",
        "plt.title('Grafica velocidad paracaidista')\n",
        "plt.xlabel('x', color='#1C2833')\n",
        "plt.ylabel('y', color='#1C2833')\n",
        "plt.grid()"
      ],
      "metadata": {
        "colab": {
          "base_uri": "https://localhost:8080/",
          "height": 527
        },
        "id": "cxp0sA0Gm9qa",
        "outputId": "5b89322b-8045-444b-a702-60016bb59254"
      },
      "execution_count": 34,
      "outputs": [
        {
          "output_type": "display_data",
          "data": {
            "text/plain": [
              "array([0., 0., 0., 0., 0., 0., 0., 0., 0., 0., 0., 0., 0., 0., 0., 0., 0.,\n",
              "       0., 0., 0., 0., 0., 0., 0., 0., 0., 0., 0., 0., 0., 0., 0., 0., 0.,\n",
              "       0., 0., 0., 0., 0., 0., 0., 0., 0., 0., 0., 0., 0., 0., 0., 0.])"
            ]
          },
          "metadata": {}
        },
        {
          "output_type": "display_data",
          "data": {
            "text/plain": [
              "array([ 0.        , 19.62      , 32.03735683, 39.89621262, 44.8700259 ,\n",
              "       48.01791654, 50.01019387, 51.27109186, 52.06910513, 52.57416198,\n",
              "       52.89380883, 53.09611102, 53.22414662, 53.30517943, 53.35646452,\n",
              "       53.38892248, 53.40946489, 53.42246603, 53.43069436, 53.43590201,\n",
              "       53.43919789, 53.44128384, 53.44260401, 53.44343954, 53.44396835,\n",
              "       53.44430302, 53.44451483, 53.44464889, 53.44473373, 53.44478743,\n",
              "       53.44482141, 53.44484292, 53.44485653, 53.44486515, 53.4448706 ,\n",
              "       53.44487405, 53.44487623, 53.44487762, 53.44487849, 53.44487905,\n",
              "       53.4448794 , 53.44487962, 53.44487976, 53.44487985, 53.4448799 ,\n",
              "       53.44487994, 53.44487996, 53.44487998, 53.44487998, 53.44487999])"
            ]
          },
          "metadata": {}
        },
        {
          "output_type": "display_data",
          "data": {
            "text/plain": [
              "<Figure size 432x288 with 1 Axes>"
            ],
            "image/png": "[encoded data removed]"
          },
          "metadata": {
            "needs_background": "light"
          }
        }
      ]
    },
    {
      "cell_type": "markdown",
      "source": [
        ""
      ],
      "metadata": {
        "id": "5OHHnxTMmx2p"
      }
    }
  ]
}